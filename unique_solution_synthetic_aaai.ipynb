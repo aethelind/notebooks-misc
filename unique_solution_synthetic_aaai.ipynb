{
  "nbformat": 4,
  "nbformat_minor": 0,
  "metadata": {
    "colab": {
      "provenance": [],
      "collapsed_sections": [],
      "authorship_tag": "ABX9TyNERDsiIDNJU9HOvsSkGfbX",
      "include_colab_link": true
    },
    "kernelspec": {
      "name": "python3",
      "display_name": "Python 3"
    },
    "language_info": {
      "name": "python"
    }
  },
  "cells": [
    {
      "cell_type": "markdown",
      "metadata": {
        "id": "view-in-github",
        "colab_type": "text"
      },
      "source": [
        "<a href=\"https://colab.research.google.com/github/aethelind/notebooks-misc/blob/main/unique_solution_synthetic_aaai.ipynb\" target=\"_parent\"><img src=\"https://colab.research.google.com/assets/colab-badge.svg\" alt=\"Open In Colab\"/></a>"
      ]
    },
    {
      "cell_type": "markdown",
      "source": [
        "#**Decision-Focused Learning Simple Synthetic Unique Problem 1**"
      ],
      "metadata": {
        "id": "qYle-amd_rOT"
      }
    },
    {
      "cell_type": "markdown",
      "source": [
        "# Get required files"
      ],
      "metadata": {
        "id": "bkhUmHy56oRe"
      }
    },
    {
      "cell_type": "code",
      "execution_count": 2,
      "metadata": {
        "id": "mXVlsSab0pUD",
        "colab": {
          "base_uri": "https://localhost:8080/"
        },
        "outputId": "15f083c1-5252-4e00-85c3-a48bf218e3a3"
      },
      "outputs": [
        {
          "output_type": "stream",
          "name": "stdout",
          "text": [
            "  % Total    % Received % Xferd  Average Speed   Time    Time     Time  Current\n",
            "                                 Dload  Upload   Total   Spent    Left  Speed\n",
            "100 83.0M  100 83.0M    0     0  11.6M      0  0:00:07  0:00:07 --:--:-- 11.0M\n",
            " inflated: benchmarks_release/diverse_recommendation_data.pickle\n",
            "  % Total    % Received % Xferd  Average Speed   Time    Time     Time  Current\n",
            "                                 Dload  Upload   Total   Spent    Left  Speed\n",
            "  0 17.9M    0     0    0     0      0      0 --:--:-- --:--:-- --:--:--     0 inflated: movie_actors.dat\n",
            " 54 17.9M   54  9.8M    0     0  7949k      0  0:00:02  0:00:01  0:00:01 7943k inflated: user_ratedmovies.dat\n",
            "100 17.9M  100 17.9M    0     0  10.1M      0  0:00:01  0:00:01 --:--:-- 10.1M\n"
          ]
        }
      ],
      "source": [
        "# Clear out directory\n",
        "!rm -rf *\n",
        "# Download data_decisions_benchmarks.zip and unzip diverse_recommendation_data.pickle\n",
        "!curl https://bryanwilder.github.io/files/data_decisions_benchmarks.zip | jar xv benchmarks_release/diverse_recommendation_data.pickle\n",
        "# Move diverse_recommendation_data.pickle to current directory\n",
        "!mv benchmarks_release/diverse_recommendation_data.pickle .\n",
        "# Remove empty directory\n",
        "!rm -rf benchmarks_release\n",
        "# Download hetrec2011-movielens-2k-v2.zip and unzip movie_actors.dat and user_ratedmovies.dat\n",
        "!curl https://files.grouplens.org/datasets/hetrec2011/hetrec2011-movielens-2k-v2.zip | jar xv movie_actors.dat user_ratedmovies.dat"
      ]
    },
    {
      "cell_type": "markdown",
      "source": [
        "# Libraries"
      ],
      "metadata": {
        "id": "MwsEhnts6yX_"
      }
    },
    {
      "cell_type": "code",
      "source": [
        "## submodular.py\n",
        "import torch\n",
        "\n",
        "class ContinuousOptimizer(torch.autograd.Function):\n",
        "    \"\"\"\n",
        "    pytorch module for differentiable submodular maximization. The forward pass \n",
        "    computes the optimal x for given parameters. The backward pass differentiates \n",
        "    that optimal x wrt the parameters.\n",
        "    \"\"\"\n",
        "\n",
        "    @staticmethod\n",
        "    def forward(ctx, params, optimize_func, get_dgradf_dparams, get_hessian=None, max_x=1., verbose=False):\n",
        "        \"\"\"\n",
        "        Computes the optimal x using the supplied optimizer. \n",
        "        \"\"\"\n",
        "        ctx.optimize_func = optimize_func\n",
        "        ctx.get_dgradf_dparams = get_dgradf_dparams\n",
        "        ctx.verbose = verbose\n",
        "        ctx.get_hessian = get_hessian\n",
        "        ctx.all_xs = []\n",
        "        ctx.max_x = max_x\n",
        "\n",
        "        import numpy as np\n",
        "        with torch.enable_grad():\n",
        "            x = ctx.optimize_func(params, verbose=ctx.verbose)\n",
        "        ctx.x = x.data\n",
        "        ctx.all_xs.append(ctx.x.detach().numpy())\n",
        "        ctx.params = params\n",
        "        ctx.xgrad = x.grad.data\n",
        "        return x.data\n",
        "\n",
        "    @staticmethod\n",
        "    def backward(ctx, grad_output):\n",
        "        \"\"\"\n",
        "        Differentiates the optimal x returned by the forward pass with respect\n",
        "        to the ratings matrix that was given as input.\n",
        "        \"\"\"\n",
        "        import numpy as np\n",
        "        from torch.autograd import Variable\n",
        "        x = ctx.x\n",
        "        params = ctx.params\n",
        "        xgrad = ctx.xgrad\n",
        "        dxdr = ContinuousOptimizer.get_dxdr(x.detach().numpy(), -xgrad.detach().numpy(), params.detach(\n",
        "        ).numpy(), ctx.get_dgradf_dparams, ctx.get_hessian, ctx.max_x)\n",
        "        dxdr_t = torch.from_numpy(np.transpose(dxdr))\n",
        "        out = torch.mm(dxdr_t.float(), grad_output.view(len(x), 1))\n",
        "        return out.view_as(params), None, None, None, None\n",
        "\n",
        "    @staticmethod\n",
        "    def get_dxdr(x, grad, params, get_dgradf_dparams, get_hessian, max_x):\n",
        "        '''\n",
        "        Returns the derivative of the optimal solution in the region around x in \n",
        "        terms of the rating matrix r. \n",
        "\n",
        "        x: an optimal solution\n",
        "\n",
        "        grad: df/dx at x\n",
        "\n",
        "        params: the current parameter settings\n",
        "        '''\n",
        "        import numpy as np\n",
        "        import scipy as sp\n",
        "        import scipy.sparse\n",
        "        import scipy.linalg\n",
        "        n = len(x)\n",
        "        # first get the optimal dual variables via the KKT conditions\n",
        "        # dual variable for constraint sum(x) <= k\n",
        "        if np.logical_and(x > 0, x < max_x).any():\n",
        "            lambda_sum = np.mean(grad[np.logical_and(x > 0, x < max_x)])\n",
        "        else:\n",
        "            lambda_sum = 0\n",
        "        # dual variable for constraint x <= max_x\n",
        "        lambda_upper = []\n",
        "        # dual variable for constraint x >= 0\n",
        "        lambda_lower = []\n",
        "        for i in range(n):\n",
        "            if np.abs(x[i] - max_x) < 0.000001:\n",
        "                lambda_upper.append(grad[i] - lambda_sum)\n",
        "            else:\n",
        "                lambda_upper.append(0)\n",
        "            if x[i] > 0:\n",
        "                lambda_lower.append(0)\n",
        "            else:\n",
        "                lambda_lower.append(grad[i] - lambda_sum)\n",
        "        # number of constraints\n",
        "        m = 2*n + 1\n",
        "        # collect value of dual variables\n",
        "        lam = np.zeros((m))\n",
        "        lam[0] = lambda_sum\n",
        "        lam[1:(n+1)] = lambda_upper\n",
        "        lam[n+1:] = lambda_lower\n",
        "        diag_lambda = np.matrix(np.diag(lam))\n",
        "        # collect value of constraints\n",
        "        g = np.zeros((m))\n",
        "        # TODO: replace the second x.sum() with k so that this is actually generally correct\n",
        "        g[0] = x.sum() - x.sum()\n",
        "        g[1:(n+1)] = x - max_x\n",
        "        g[n+1:] = -x\n",
        "        diag_g = np.matrix(np.diag(g))\n",
        "        # gradient of constraints wrt x\n",
        "        dgdx = np.zeros((m, n))\n",
        "        # gradient of constraint sum(x) <= k\n",
        "        dgdx[0, :] = 1\n",
        "        # gradient of constraints x <= 1\n",
        "        for i in range(1, n+1):\n",
        "            dgdx[i, i-1] = 1\n",
        "        # gradient of constraints x >= 0 <--> -x <= 0\n",
        "        for i in range(n+1, m):\n",
        "            dgdx[i, i-(n+1)] = -1\n",
        "        dgdx = np.matrix(dgdx)\n",
        "        # the Hessian matrix -- all zeros for now\n",
        "        if get_hessian == None:\n",
        "            H = np.matrix(np.zeros((n, n)))\n",
        "        else:\n",
        "            H = get_hessian(x, params)\n",
        "        # coefficient matrix for the linear system\n",
        "        A = np.bmat([[H, np.transpose(dgdx)], [diag_lambda*dgdx, diag_g]])\n",
        "        # add 0.01*I to improve conditioning\n",
        "        A = A + 0.01*np.eye(n+m)\n",
        "        # RHS of the linear system, mostly partial derivative of grad f wrt params\n",
        "        dgradf_dparams = get_dgradf_dparams(x, params, num_samples=1000)\n",
        "        reshaped = np.zeros(\n",
        "            (dgradf_dparams.shape[0], dgradf_dparams.shape[1]*dgradf_dparams.shape[2]))\n",
        "        for i in range(n):\n",
        "            reshaped[i] = dgradf_dparams[i].flatten()\n",
        "        b = np.bmat([[reshaped], [np.zeros((m, reshaped.shape[1]))]])\n",
        "        # solution to the system\n",
        "        derivatives = sp.linalg.solve(A, b)\n",
        "        if np.isnan(derivatives).any():\n",
        "            print('report')\n",
        "            print(np.isnan(A).any())\n",
        "            print(np.isnan(b).any())\n",
        "            print(np.isnan(dgdx).any())\n",
        "            print(np.isnan(diag_lambda).any())\n",
        "            print(np.isnan(diag_g).any())\n",
        "            print(np.isnan(dgradf_dparams).any())\n",
        "        # first n are derivatives of primal variables\n",
        "        derivatives = derivatives[:n]\n",
        "        return derivatives\n"
      ],
      "metadata": {
        "id": "_ILZcPSG64z6"
      },
      "execution_count": 3,
      "outputs": []
    },
    {
      "cell_type": "code",
      "source": [
        "# coverage.py\n",
        "import torch\n",
        "import numpy as np\n",
        "from numba import jit\n",
        "\n",
        "\n",
        "@jit\n",
        "def gradient_coverage(x, P, w):\n",
        "    n = len(w)\n",
        "    m = len(x)\n",
        "    grad = np.zeros(m, dtype=np.float32)\n",
        "    for i in range(n):\n",
        "        p_fail = 1 - x*P[:, i]\n",
        "        p_all_fail = np.prod(p_fail)\n",
        "        for j in range(m):\n",
        "            grad[j] += w[i] * P[j, i] * p_all_fail/p_fail[j]\n",
        "    return grad\n",
        "\n",
        "\n",
        "@jit\n",
        "def hessian_coverage(x, P, w):\n",
        "    n = len(w)\n",
        "    m = len(x)\n",
        "    hessian = np.zeros((m, m), dtype=np.float32)\n",
        "    for i in range(n):\n",
        "        p_fail = 1 - x*P[:, i]\n",
        "        p_all_fail = np.prod(p_fail)\n",
        "        for j in range(m):\n",
        "            for k in range(m):\n",
        "                hessian[j, k] = -w[i] * P[j, i] * \\\n",
        "                    p_all_fail/(p_fail[j] * p_fail[k])\n",
        "    return hessian\n",
        "\n",
        "\n",
        "@jit\n",
        "def objective_coverage(x, P, w):\n",
        "    n = len(w)\n",
        "    total = 0\n",
        "    for i in range(n):\n",
        "        p_fail = 1 - x*P[:, i]\n",
        "        p_all_fail = np.prod(p_fail)\n",
        "        total += w[i] * (1 - p_all_fail)\n",
        "    return total\n",
        "\n",
        "\n",
        "class CoverageInstanceMultilinear(torch.autograd.Function):\n",
        "    \"\"\"\n",
        "    Represents a coverage instance with given coverage probabilities\n",
        "    P and weights w. Forward pass computes the objective value (if evaluate_forward\n",
        "    is true). Backward computes the gradients wrt decision variables x.\n",
        "    \"\"\"\n",
        "    @staticmethod\n",
        "    def forward(ctx, x, P, w, evaluate_forward):\n",
        "        ctx.evaluate_forward = evaluate_forward\n",
        "        if type(P) != np.ndarray:\n",
        "            P = P.detach().numpy()\n",
        "        if type(w) != np.ndarray:\n",
        "            w = w.detach().numpy()\n",
        "        ctx.P = P\n",
        "        ctx.w = w\n",
        "\n",
        "        ctx.x = x.detach().numpy()\n",
        "        if ctx.evaluate_forward:\n",
        "            out = objective_coverage(ctx.x, ctx.P, ctx.w)\n",
        "        else:\n",
        "            out = -1\n",
        "        return torch.tensor(out).float()\n",
        "\n",
        "    @staticmethod\n",
        "    def backward(ctx, grad_in):\n",
        "        grad = gradient_coverage(ctx.x, ctx.P, ctx.w)\n",
        "        return torch.from_numpy(grad).float()*grad_in.float(), None, None, None\n",
        "\n",
        "\n",
        "def optimize_coverage_multilinear(P, w, verbose=True, k=10, c=1., minibatch_size=None):\n",
        "    '''\n",
        "    Run some variant of SGD for the coverage problem with given \n",
        "    coverage probabilities P and weights w\n",
        "\n",
        "    '''\n",
        "    import torch\n",
        "    # from utils import project_uniform_matroid_boundary as project\n",
        "\n",
        "    # objective which will provide gradient evaluations\n",
        "    # coverage = CoverageInstanceMultilinear.apply(P, w, verbose) # move to call below\n",
        "    # decision variables\n",
        "    x = torch.zeros(P.shape[0], requires_grad=True)\n",
        "    # set up the optimizer\n",
        "    learning_rate = 0.1\n",
        "    optimizer = torch.optim.SGD(\n",
        "        [x], momentum=0.9, lr=learning_rate, nesterov=True)\n",
        "    # take projected stochastic gradient steps\n",
        "    for t in range(10):\n",
        "        loss = -CoverageInstanceMultilinear.apply(x, P, w, verbose)\n",
        "        if verbose:\n",
        "            print(t, -loss.item())\n",
        "        optimizer.zero_grad()\n",
        "        loss.backward(retain_graph=True)\n",
        "        optimizer.step()\n",
        "        x.data = torch.from_numpy(project_uniform_matroid_boundary(x.data.numpy(), k, 1/c)).float()\n",
        "    return x\n",
        "\n",
        "\n",
        "@jit\n",
        "def dgrad_coverage(x, P, num_samples, w):\n",
        "    n = len(w)\n",
        "    m = len(x)\n",
        "    dgrad = np.zeros((m, m, n), dtype=np.float32)\n",
        "    for i in range(n):\n",
        "        p_fail = 1 - x*P[:, i]\n",
        "        p_all_fail = np.prod(p_fail)\n",
        "        for j in range(m):\n",
        "            for k in range(m):\n",
        "                if j == k:\n",
        "                    dgrad[j, k, i] = w[i] * p_all_fail/p_fail[j]\n",
        "                else:\n",
        "                    dgrad[j, k, i] = -w[i] * x[k] * P[j, i] * \\\n",
        "                        p_all_fail/(p_fail[j] * p_fail[k])\n",
        "    return dgrad\n",
        "\n",
        "\n",
        "@jit\n",
        "def dgrad_coverage_stochastic(x, P, num_samples, w, num_real_samples):\n",
        "    n = len(w)\n",
        "    m = len(x)\n",
        "    rand_rows = np.random.choice(list(range(m)), num_real_samples)\n",
        "    rand_cols = np.random.choice(list(range(n)), num_real_samples)\n",
        "\n",
        "    dgrad = np.zeros((m, m, n), dtype=np.float32)\n",
        "\n",
        "    p_fail = np.zeros((n, m), dtype=np.float32)\n",
        "    p_all_fail = np.zeros((n), dtype=np.float32)\n",
        "    for i in range(n):\n",
        "        p_fail[i] = 1 - x*P[:, i]\n",
        "        p_all_fail[i] = np.prod(p_fail[i])\n",
        "\n",
        "    for sample in range(num_real_samples):\n",
        "        k = rand_rows[sample]\n",
        "        i = rand_cols[sample]\n",
        "        for j in range(m):\n",
        "            if j == k:\n",
        "                dgrad[j, k, i] = w[i] * p_all_fail[i]/p_fail[i, j]\n",
        "            else:\n",
        "                dgrad[j, k, i] = -w[i] * x[k] * P[j, i] * \\\n",
        "                    p_all_fail[i]/(p_fail[i, j] * p_fail[i, k])\n",
        "    return dgrad\n"
      ],
      "metadata": {
        "id": "89_Zuuuh6-2R"
      },
      "execution_count": 4,
      "outputs": []
    },
    {
      "cell_type": "code",
      "source": [
        "## utils.py\n",
        "\n",
        "def project_uniform_matroid_boundary(x, k, c=1):\n",
        "    '''\n",
        "    Exact projection algorithm of Karimi et al. This is the projection implementation\n",
        "    that should be used now.\n",
        "    \n",
        "    Projects x onto the set {y: 0 <= y <= 1/c, ||y||_1 = k}\n",
        "    '''\n",
        "    import numpy as np\n",
        "    k *= c\n",
        "    n = len(x)\n",
        "    x = x.copy()\n",
        "    alpha_upper = x/c\n",
        "    alpha_lower = (x*c - 1)/c**2\n",
        "    S = []\n",
        "    S.extend(alpha_lower)\n",
        "    S.extend(alpha_upper)\n",
        "    S.sort()\n",
        "    S = np.unique(S)\n",
        "    h = n\n",
        "    alpha = min(S) - 1\n",
        "    m = 0\n",
        "    for i in range(len(S)):\n",
        "        hprime = h + (S[i] - alpha)*m\n",
        "        if hprime < k and k <= h:\n",
        "            alphastar = (S[i] - alpha)*(h - k)/(h - hprime) + alpha\n",
        "            result = np.zeros((n))\n",
        "            for j in range(n):\n",
        "                if alpha_lower[j] > alphastar:\n",
        "                    result[j] = 1./c\n",
        "                elif alpha_upper[j] >= alphastar:\n",
        "                    result[j] = x[j] - alphastar*c\n",
        "            return result\n",
        "        m -= (alpha_lower == S[i]).sum()*(c**2)\n",
        "        m += (alpha_upper == S[i]).sum()*(c**2)\n",
        "        h = hprime\n",
        "        alpha = S[i]\n",
        "    raise Exception('projection did not terminate')\n",
        "\n",
        "def project_cvx(x, k):\n",
        "    '''\n",
        "    Exact Euclidean projection onto the boundary of the k uniform matroid polytope.\n",
        "    '''\n",
        "    from cvxpy import Variable, Minimize, sum_squares, Problem\n",
        "    import numpy as np\n",
        "    n = len(x)\n",
        "    p = Variable(n, 1)\n",
        "    objective = Minimize(sum_squares(p - x))\n",
        "    constraints = [sum(p) == k, p >= 0, p <= 1]\n",
        "    prob = Problem(objective, constraints)\n",
        "    prob.solve()\n",
        "    return np.reshape(np.array(p.value), x.shape)\n"
      ],
      "metadata": {
        "id": "yEaAkWRh8fPI"
      },
      "execution_count": 5,
      "outputs": []
    },
    {
      "cell_type": "markdown",
      "source": [
        "### Load & Preprocess Data\n",
        "\n"
      ],
      "metadata": {
        "id": "eetk4XuLvBrS"
      }
    },
    {
      "cell_type": "markdown",
      "source": [
        "The probabilities of coverage below has none of the targets match.\n",
        "\n",
        "Thus, it becomes impossible to cover all 4 targets without at least k=4. The highest objective value we can obtain becomes k.\n"
      ],
      "metadata": {
        "id": "MXIxUiA9WAhF"
      }
    },
    {
      "cell_type": "code",
      "source": [
        "# load probability matrix \n",
        "P_list = [\n",
        "[\t0\t,\t0\t,\t0\t,\t1\t],\n",
        "[\t0\t,\t0\t,\t0\t,\t0\t],\n",
        "[\t1\t,\t1\t,\t0\t,\t0\t],\n",
        "[\t0\t,\t0\t,\t0\t,\t0\t],\n",
        "[\t0\t,\t0\t,\t0\t,\t0\t],\n",
        "[\t0\t,\t0\t,\t0\t,\t0\t],\n",
        "[\t0\t,\t0\t,\t0\t,\t0\t],\n",
        "[\t0\t,\t0\t,\t0\t,\t0\t],\n",
        "[\t0\t,\t0\t,\t0\t,\t1\t],\n",
        "[\t0\t,\t0\t,\t0\t,\t0\t],\n",
        "[\t0\t,\t0\t,\t0\t,\t0\t],\n",
        "[\t1\t,\t0\t,\t0\t,\t1\t],\n",
        "[\t0\t,\t0\t,\t0\t,\t0\t],\n",
        "[\t1\t,\t0\t,\t0\t,\t0\t],\n",
        "[\t1\t,\t0\t,\t0\t,\t0\t],\n",
        "[\t0\t,\t0\t,\t0\t,\t1\t],\n",
        "[\t0\t,\t0\t,\t0\t,\t1\t],\n",
        "[\t0\t,\t0\t,\t0\t,\t1\t],\n",
        "[\t0\t,\t0\t,\t0\t,\t1\t],\n",
        "[\t0\t,\t0\t,\t0\t,\t0\t],\n",
        "[\t0\t,\t0\t,\t0\t,\t0\t],\n",
        "[\t0\t,\t0\t,\t0\t,\t1\t],\n",
        "[\t0\t,\t0\t,\t0\t,\t1\t],\n",
        "[\t1\t,\t0\t,\t0\t,\t1\t],\n",
        "[\t0\t,\t1\t,\t1\t,\t0\t],\n",
        "[\t0\t,\t0\t,\t0\t,\t1\t],\n",
        "]\n",
        "\n"
      ],
      "metadata": {
        "id": "AntKUSQjV89g"
      },
      "execution_count": 44,
      "outputs": []
    },
    {
      "cell_type": "code",
      "source": [
        "# load features\n",
        "circuit_km = [3.7, \n",
        "3, \n",
        "6.9, \n",
        "3.5, \n",
        "2, \n",
        "2.8, \n",
        "2.4, \n",
        "4.5, \n",
        "4.3, \n",
        "2.6, \n",
        "3.2, \n",
        "4.9, \n",
        "1.9, \n",
        "4.1, \n",
        "3.4, \n",
        "4.3, \n",
        "4, \n",
        "3.3, \n",
        "3.4, \n",
        "2.4, \n",
        "1.9, \n",
        "4.5, \n",
        "4, \n",
        "4.9, \n",
        "1.2, \n",
        "3.9, \n",
        "]\n",
        "y = []\n",
        "for i in circuit_km:\n",
        "  y.append([i])"
      ],
      "metadata": {
        "id": "cnq3ng5p9j6w"
      },
      "execution_count": 45,
      "outputs": []
    },
    {
      "cell_type": "code",
      "source": [
        "## recommendation_nn_decision.py\n",
        "import numpy as np\n",
        "import torch\n",
        "# from coverage import optimize_coverage_multilinear, CoverageInstanceMultilinear, dgrad_coverage, hessian_coverage\n",
        "import pickle\n",
        "from functools import partial\n",
        "# from submodular import ContinuousOptimizer\n",
        "import torch.nn as nn\n",
        "import random\n",
        "# import argparse\n",
        "\n",
        "# parser = argparse.ArgumentParser()\n",
        "# parser.add_argument('--layers', type=int, default=1)\n",
        "# parser.add_argument('--activation', type=str, default='relu')\n",
        "# parser.add_argument('--k', type=int, default=20)\n",
        "\n",
        "# args = parser.parse_args()\n",
        "num_layers = 4\n",
        "activation = 'relu'\n",
        "k = 2\n",
        "use_hessian = False\n",
        "num_iters = 500\n",
        "instance_sizes = [0]\n",
        "learning_rate = 1e-4\n",
        "\n",
        "Ps = {}\n",
        "data = {}\n",
        "f_true = {}\n",
        "\n",
        "for num_items in instance_sizes:\n",
        "    Ps_size = np.array(P_list)\n",
        "    data_size = np.array(y)\n",
        "\n",
        "    num_targets = Ps_size.shape[1] #500 --> 4\n",
        "    num_features = data_size.shape[1] #2113 --> 1\n",
        "    Ps[num_items] = [torch.from_numpy(Ps_size).long()]\n",
        "    data[num_items] = [torch.from_numpy(data_size).float()]\n",
        "    w = np.ones(num_targets, dtype=np.float32)\n",
        "    f_true[num_items] = [(P, w) for P in Ps[num_items]]\n",
        "  \n",
        "num_repetitions = 0\n",
        "\n",
        "train = {}\n",
        "test = {}\n",
        "for size in instance_sizes:\n",
        "  train[size], test[size] = np.array(P_list), np.array(y)"
      ],
      "metadata": {
        "id": "PM-3t2LMuPXH"
      },
      "execution_count": 58,
      "outputs": []
    },
    {
      "cell_type": "markdown",
      "source": [
        "### Train NN"
      ],
      "metadata": {
        "id": "vPaXGUZ0vQzB"
      }
    },
    {
      "cell_type": "code",
      "source": [
        "vals = np.zeros((num_repetitions+1, len(instance_sizes), len(instance_sizes)))\n",
        "\n",
        "for idx in range(num_repetitions, num_repetitions + 1):\n",
        "\n",
        "    intermediate_size = 26\n",
        "\n",
        "    def make_fc():\n",
        "        if num_layers > 1:\n",
        "            if activation == 'relu':\n",
        "                activation_fn = nn.ReLU\n",
        "            elif activation == 'sigmoid':\n",
        "                activation_fn = nn.Sigmoid\n",
        "            else:\n",
        "                raise Exception(\n",
        "                    'Invalid activation function: ' + str(activation))\n",
        "            net_layers = [\n",
        "                nn.Linear(num_features, intermediate_size), activation_fn()]\n",
        "            for hidden in range(num_layers-2):\n",
        "                net_layers.append(\n",
        "                    nn.Linear(intermediate_size, intermediate_size))\n",
        "                net_layers.append(activation_fn())\n",
        "            net_layers.append(nn.Linear(intermediate_size, num_targets))\n",
        "            net_layers.append(nn.Sigmoid())\n",
        "            return nn.Sequential(*net_layers)\n",
        "        else:\n",
        "            return nn.Sequential(nn.Linear(num_features, num_targets), nn.Sigmoid())\n",
        "\n",
        "    # optimizer that will be used for training (and testing)\n",
        "    optfunc = partial(optimize_coverage_multilinear, w=w, k=k, c=0.95)\n",
        "    dgrad = partial(dgrad_coverage, w=w)\n",
        "    if use_hessian:\n",
        "        hessian = partial(hessian_coverage, w=w)\n",
        "    else:\n",
        "        hessian = None\n",
        "\n",
        "    # runs the given net on instances of a given size\n",
        "    def eval_opt(net, instances, size):\n",
        "        net.eval()\n",
        "        val = 0.\n",
        "        for i in range(len(instances)):\n",
        "            pred = net(data[size][i])\n",
        "            x = ContinuousOptimizer.apply(pred, optfunc, dgrad, None, 0.95)\n",
        "            pp, ww = f_true[size][i]\n",
        "            val += objective_coverage(x.detach().numpy(), pp.detach().numpy(), ww)\n",
        "        net.train()\n",
        "        return val/len(instances), pred, x\n",
        "\n",
        "    # train a network for each size, and test on each sizes\n",
        "    for train_idx, train_size in enumerate(instance_sizes):\n",
        "        net = make_fc()\n",
        "        optimizer = torch.optim.Adam(net.parameters(), lr=learning_rate)\n",
        "        # training\n",
        "        for t in range(num_iters):\n",
        "            print(f\"Iteration {t}\")\n",
        "            #i = random.randint(0, 80)\n",
        "            i=0\n",
        "            pred = net(data[train_size][i])\n",
        "            x = ContinuousOptimizer.apply(pred, optfunc, dgrad, None, 0.95)\n",
        "            pp, ww = f_true[train_size][i]\n",
        "            loss = -CoverageInstanceMultilinear.apply(x, pp, ww, False)\n",
        "            optimizer.zero_grad()\n",
        "            loss.backward(retain_graph=True)\n",
        "            optimizer.step()\n",
        "        # save learned network state\n",
        "        savepath = '/tmp/net_diffopt_smalllr_{0}_{1}_{2}_{3}.pt'.format(\n",
        "            train_size, k, num_layers, idx)\n",
        "        torch.save(net.state_dict(), savepath)\n",
        "        # test on different sizes\n",
        "        for test_idx, test_size in enumerate(instance_sizes):\n",
        "            vals[idx, train_idx, test_idx], return_prediction, return_x = eval_opt(net, test, test_size)\n",
        "            print(vals[idx, train_idx, test_idx])\n",
        "        # save out values\n",
        "        print(idx, train_size, vals[idx, train_idx])\n",
        "        with open('results_recommendation_' + str(num_layers) + '.pickle', 'wb') as f:\n",
        "            pickle.dump(vals, f)\n"
      ],
      "metadata": {
        "id": "XY6dsuGl7K6r",
        "colab": {
          "base_uri": "https://localhost:8080/"
        },
        "outputId": "5a8ea2f1-d20e-4449-86c6-1a3487c05997"
      },
      "execution_count": 59,
      "outputs": [
        {
          "output_type": "stream",
          "name": "stdout",
          "text": [
            "Iteration 0\n",
            "Iteration 1\n",
            "Iteration 2\n",
            "Iteration 3\n",
            "Iteration 4\n",
            "Iteration 5\n",
            "Iteration 6\n",
            "Iteration 7\n",
            "Iteration 8\n",
            "Iteration 9\n",
            "Iteration 10\n",
            "Iteration 11\n",
            "Iteration 12\n",
            "Iteration 13\n",
            "Iteration 14\n",
            "Iteration 15\n",
            "Iteration 16\n",
            "Iteration 17\n",
            "Iteration 18\n",
            "Iteration 19\n",
            "Iteration 20\n",
            "Iteration 21\n",
            "Iteration 22\n",
            "Iteration 23\n",
            "Iteration 24\n",
            "Iteration 25\n",
            "Iteration 26\n",
            "Iteration 27\n",
            "Iteration 28\n",
            "Iteration 29\n",
            "Iteration 30\n",
            "Iteration 31\n",
            "Iteration 32\n",
            "Iteration 33\n",
            "Iteration 34\n",
            "Iteration 35\n",
            "Iteration 36\n",
            "Iteration 37\n",
            "Iteration 38\n",
            "Iteration 39\n",
            "Iteration 40\n",
            "Iteration 41\n",
            "Iteration 42\n",
            "Iteration 43\n",
            "Iteration 44\n",
            "Iteration 45\n",
            "Iteration 46\n",
            "Iteration 47\n",
            "Iteration 48\n",
            "Iteration 49\n",
            "Iteration 50\n",
            "Iteration 51\n",
            "Iteration 52\n",
            "Iteration 53\n",
            "Iteration 54\n",
            "Iteration 55\n",
            "Iteration 56\n",
            "Iteration 57\n",
            "Iteration 58\n",
            "Iteration 59\n",
            "Iteration 60\n",
            "Iteration 61\n",
            "Iteration 62\n",
            "Iteration 63\n",
            "Iteration 64\n",
            "Iteration 65\n",
            "Iteration 66\n",
            "Iteration 67\n",
            "Iteration 68\n",
            "Iteration 69\n",
            "Iteration 70\n",
            "Iteration 71\n",
            "Iteration 72\n",
            "Iteration 73\n",
            "Iteration 74\n",
            "Iteration 75\n",
            "Iteration 76\n",
            "Iteration 77\n",
            "Iteration 78\n",
            "Iteration 79\n",
            "Iteration 80\n",
            "Iteration 81\n",
            "Iteration 82\n",
            "Iteration 83\n",
            "Iteration 84\n",
            "Iteration 85\n",
            "Iteration 86\n",
            "Iteration 87\n",
            "Iteration 88\n",
            "Iteration 89\n",
            "Iteration 90\n",
            "Iteration 91\n",
            "Iteration 92\n",
            "Iteration 93\n",
            "Iteration 94\n",
            "Iteration 95\n",
            "Iteration 96\n",
            "Iteration 97\n",
            "Iteration 98\n",
            "Iteration 99\n",
            "Iteration 100\n",
            "Iteration 101\n",
            "Iteration 102\n",
            "Iteration 103\n",
            "Iteration 104\n",
            "Iteration 105\n",
            "Iteration 106\n",
            "Iteration 107\n",
            "Iteration 108\n",
            "Iteration 109\n",
            "Iteration 110\n",
            "Iteration 111\n",
            "Iteration 112\n",
            "Iteration 113\n",
            "Iteration 114\n",
            "Iteration 115\n",
            "Iteration 116\n",
            "Iteration 117\n",
            "Iteration 118\n",
            "Iteration 119\n",
            "Iteration 120\n",
            "Iteration 121\n",
            "Iteration 122\n",
            "Iteration 123\n",
            "Iteration 124\n",
            "Iteration 125\n",
            "Iteration 126\n",
            "Iteration 127\n",
            "Iteration 128\n",
            "Iteration 129\n",
            "Iteration 130\n",
            "Iteration 131\n",
            "Iteration 132\n",
            "Iteration 133\n",
            "Iteration 134\n",
            "Iteration 135\n",
            "Iteration 136\n",
            "Iteration 137\n",
            "Iteration 138\n",
            "Iteration 139\n",
            "Iteration 140\n",
            "Iteration 141\n",
            "Iteration 142\n",
            "Iteration 143\n",
            "Iteration 144\n",
            "Iteration 145\n",
            "Iteration 146\n",
            "Iteration 147\n",
            "Iteration 148\n",
            "Iteration 149\n",
            "Iteration 150\n",
            "Iteration 151\n",
            "Iteration 152\n",
            "Iteration 153\n",
            "Iteration 154\n",
            "Iteration 155\n",
            "Iteration 156\n",
            "Iteration 157\n",
            "Iteration 158\n",
            "Iteration 159\n",
            "Iteration 160\n",
            "Iteration 161\n",
            "Iteration 162\n",
            "Iteration 163\n",
            "Iteration 164\n",
            "Iteration 165\n",
            "Iteration 166\n",
            "Iteration 167\n",
            "Iteration 168\n",
            "Iteration 169\n",
            "Iteration 170\n",
            "Iteration 171\n",
            "Iteration 172\n",
            "Iteration 173\n",
            "Iteration 174\n",
            "Iteration 175\n",
            "Iteration 176\n",
            "Iteration 177\n",
            "Iteration 178\n",
            "Iteration 179\n",
            "Iteration 180\n",
            "Iteration 181\n",
            "Iteration 182\n",
            "Iteration 183\n",
            "Iteration 184\n",
            "Iteration 185\n",
            "Iteration 186\n",
            "Iteration 187\n",
            "Iteration 188\n",
            "Iteration 189\n",
            "Iteration 190\n",
            "Iteration 191\n",
            "Iteration 192\n",
            "Iteration 193\n",
            "Iteration 194\n",
            "Iteration 195\n",
            "Iteration 196\n",
            "Iteration 197\n",
            "Iteration 198\n",
            "Iteration 199\n",
            "Iteration 200\n",
            "Iteration 201\n",
            "Iteration 202\n",
            "Iteration 203\n",
            "Iteration 204\n",
            "Iteration 205\n",
            "Iteration 206\n",
            "Iteration 207\n",
            "Iteration 208\n",
            "Iteration 209\n",
            "Iteration 210\n",
            "Iteration 211\n",
            "Iteration 212\n",
            "Iteration 213\n",
            "Iteration 214\n",
            "Iteration 215\n",
            "Iteration 216\n",
            "Iteration 217\n",
            "Iteration 218\n",
            "Iteration 219\n",
            "Iteration 220\n",
            "Iteration 221\n",
            "Iteration 222\n",
            "Iteration 223\n",
            "Iteration 224\n",
            "Iteration 225\n",
            "Iteration 226\n",
            "Iteration 227\n",
            "Iteration 228\n",
            "Iteration 229\n",
            "Iteration 230\n",
            "Iteration 231\n",
            "Iteration 232\n",
            "Iteration 233\n",
            "Iteration 234\n",
            "Iteration 235\n",
            "Iteration 236\n",
            "Iteration 237\n",
            "Iteration 238\n",
            "Iteration 239\n",
            "Iteration 240\n",
            "Iteration 241\n",
            "Iteration 242\n",
            "Iteration 243\n",
            "Iteration 244\n",
            "Iteration 245\n",
            "Iteration 246\n",
            "Iteration 247\n",
            "Iteration 248\n",
            "Iteration 249\n",
            "Iteration 250\n",
            "Iteration 251\n",
            "Iteration 252\n",
            "Iteration 253\n",
            "Iteration 254\n",
            "Iteration 255\n",
            "Iteration 256\n",
            "Iteration 257\n",
            "Iteration 258\n",
            "Iteration 259\n",
            "Iteration 260\n",
            "Iteration 261\n",
            "Iteration 262\n",
            "Iteration 263\n",
            "Iteration 264\n",
            "Iteration 265\n",
            "Iteration 266\n",
            "Iteration 267\n",
            "Iteration 268\n",
            "Iteration 269\n",
            "Iteration 270\n",
            "Iteration 271\n",
            "Iteration 272\n",
            "Iteration 273\n",
            "Iteration 274\n",
            "Iteration 275\n",
            "Iteration 276\n",
            "Iteration 277\n",
            "Iteration 278\n",
            "Iteration 279\n",
            "Iteration 280\n",
            "Iteration 281\n",
            "Iteration 282\n",
            "Iteration 283\n",
            "Iteration 284\n",
            "Iteration 285\n",
            "Iteration 286\n",
            "Iteration 287\n",
            "Iteration 288\n",
            "Iteration 289\n",
            "Iteration 290\n",
            "Iteration 291\n",
            "Iteration 292\n",
            "Iteration 293\n",
            "Iteration 294\n",
            "Iteration 295\n",
            "Iteration 296\n",
            "Iteration 297\n",
            "Iteration 298\n",
            "Iteration 299\n",
            "Iteration 300\n",
            "Iteration 301\n",
            "Iteration 302\n",
            "Iteration 303\n",
            "Iteration 304\n",
            "Iteration 305\n",
            "Iteration 306\n",
            "Iteration 307\n",
            "Iteration 308\n",
            "Iteration 309\n",
            "Iteration 310\n",
            "Iteration 311\n",
            "Iteration 312\n",
            "Iteration 313\n",
            "Iteration 314\n",
            "Iteration 315\n",
            "Iteration 316\n",
            "Iteration 317\n",
            "Iteration 318\n",
            "Iteration 319\n",
            "Iteration 320\n",
            "Iteration 321\n",
            "Iteration 322\n",
            "Iteration 323\n",
            "Iteration 324\n",
            "Iteration 325\n",
            "Iteration 326\n",
            "Iteration 327\n",
            "Iteration 328\n",
            "Iteration 329\n",
            "Iteration 330\n",
            "Iteration 331\n",
            "Iteration 332\n",
            "Iteration 333\n",
            "Iteration 334\n",
            "Iteration 335\n",
            "Iteration 336\n",
            "Iteration 337\n",
            "Iteration 338\n",
            "Iteration 339\n",
            "Iteration 340\n",
            "Iteration 341\n",
            "Iteration 342\n",
            "Iteration 343\n",
            "Iteration 344\n",
            "Iteration 345\n",
            "Iteration 346\n",
            "Iteration 347\n",
            "Iteration 348\n",
            "Iteration 349\n",
            "Iteration 350\n",
            "Iteration 351\n",
            "Iteration 352\n",
            "Iteration 353\n",
            "Iteration 354\n",
            "Iteration 355\n",
            "Iteration 356\n",
            "Iteration 357\n",
            "Iteration 358\n",
            "Iteration 359\n",
            "Iteration 360\n",
            "Iteration 361\n",
            "Iteration 362\n",
            "Iteration 363\n",
            "Iteration 364\n",
            "Iteration 365\n",
            "Iteration 366\n",
            "Iteration 367\n",
            "Iteration 368\n",
            "Iteration 369\n",
            "Iteration 370\n",
            "Iteration 371\n",
            "Iteration 372\n",
            "Iteration 373\n",
            "Iteration 374\n",
            "Iteration 375\n",
            "Iteration 376\n",
            "Iteration 377\n",
            "Iteration 378\n",
            "Iteration 379\n",
            "Iteration 380\n",
            "Iteration 381\n",
            "Iteration 382\n",
            "Iteration 383\n",
            "Iteration 384\n",
            "Iteration 385\n",
            "Iteration 386\n",
            "Iteration 387\n",
            "Iteration 388\n",
            "Iteration 389\n",
            "Iteration 390\n",
            "Iteration 391\n",
            "Iteration 392\n",
            "Iteration 393\n",
            "Iteration 394\n",
            "Iteration 395\n",
            "Iteration 396\n",
            "Iteration 397\n",
            "Iteration 398\n",
            "Iteration 399\n",
            "Iteration 400\n",
            "Iteration 401\n",
            "Iteration 402\n",
            "Iteration 403\n",
            "Iteration 404\n",
            "Iteration 405\n",
            "Iteration 406\n",
            "Iteration 407\n",
            "Iteration 408\n",
            "Iteration 409\n",
            "Iteration 410\n",
            "Iteration 411\n",
            "Iteration 412\n",
            "Iteration 413\n",
            "Iteration 414\n",
            "Iteration 415\n",
            "Iteration 416\n",
            "Iteration 417\n",
            "Iteration 418\n",
            "Iteration 419\n",
            "Iteration 420\n",
            "Iteration 421\n",
            "Iteration 422\n",
            "Iteration 423\n",
            "Iteration 424\n",
            "Iteration 425\n",
            "Iteration 426\n",
            "Iteration 427\n",
            "Iteration 428\n",
            "Iteration 429\n",
            "Iteration 430\n",
            "Iteration 431\n",
            "Iteration 432\n",
            "Iteration 433\n",
            "Iteration 434\n",
            "Iteration 435\n",
            "Iteration 436\n",
            "Iteration 437\n",
            "Iteration 438\n",
            "Iteration 439\n",
            "Iteration 440\n",
            "Iteration 441\n",
            "Iteration 442\n",
            "Iteration 443\n",
            "Iteration 444\n",
            "Iteration 445\n",
            "Iteration 446\n",
            "Iteration 447\n",
            "Iteration 448\n",
            "Iteration 449\n",
            "Iteration 450\n",
            "Iteration 451\n",
            "Iteration 452\n",
            "Iteration 453\n",
            "Iteration 454\n",
            "Iteration 455\n",
            "Iteration 456\n",
            "Iteration 457\n",
            "Iteration 458\n",
            "Iteration 459\n",
            "Iteration 460\n",
            "Iteration 461\n",
            "Iteration 462\n",
            "Iteration 463\n",
            "Iteration 464\n",
            "Iteration 465\n",
            "Iteration 466\n",
            "Iteration 467\n",
            "Iteration 468\n",
            "Iteration 469\n",
            "Iteration 470\n",
            "Iteration 471\n",
            "Iteration 472\n",
            "Iteration 473\n",
            "Iteration 474\n",
            "Iteration 475\n",
            "Iteration 476\n",
            "Iteration 477\n",
            "Iteration 478\n",
            "Iteration 479\n",
            "Iteration 480\n",
            "Iteration 481\n",
            "Iteration 482\n",
            "Iteration 483\n",
            "Iteration 484\n",
            "Iteration 485\n",
            "Iteration 486\n",
            "Iteration 487\n",
            "Iteration 488\n",
            "Iteration 489\n",
            "Iteration 490\n",
            "Iteration 491\n",
            "Iteration 492\n",
            "Iteration 493\n",
            "Iteration 494\n",
            "Iteration 495\n",
            "Iteration 496\n",
            "Iteration 497\n",
            "Iteration 498\n",
            "Iteration 499\n",
            "2.5475668273866177\n",
            "0 0 [2.54756683]\n"
          ]
        }
      ]
    },
    {
      "cell_type": "code",
      "source": [
        "data[train_size][0]"
      ],
      "metadata": {
        "colab": {
          "base_uri": "https://localhost:8080/"
        },
        "id": "ZCFzo5imlPja",
        "outputId": "e7850b66-4d48-4875-9fd8-5b6be7629eb8"
      },
      "execution_count": 60,
      "outputs": [
        {
          "output_type": "execute_result",
          "data": {
            "text/plain": [
              "tensor([[3.7000],\n",
              "        [3.0000],\n",
              "        [6.9000],\n",
              "        [3.5000],\n",
              "        [2.0000],\n",
              "        [2.8000],\n",
              "        [2.4000],\n",
              "        [4.5000],\n",
              "        [4.3000],\n",
              "        [2.6000],\n",
              "        [3.2000],\n",
              "        [4.9000],\n",
              "        [1.9000],\n",
              "        [4.1000],\n",
              "        [3.4000],\n",
              "        [4.3000],\n",
              "        [4.0000],\n",
              "        [3.3000],\n",
              "        [3.4000],\n",
              "        [2.4000],\n",
              "        [1.9000],\n",
              "        [4.5000],\n",
              "        [4.0000],\n",
              "        [4.9000],\n",
              "        [1.2000],\n",
              "        [3.9000]])"
            ]
          },
          "metadata": {},
          "execution_count": 60
        }
      ]
    },
    {
      "cell_type": "code",
      "source": [
        "return_prediction"
      ],
      "metadata": {
        "colab": {
          "base_uri": "https://localhost:8080/"
        },
        "id": "pb3W4clxtnsb",
        "outputId": "1ac5491a-c10d-4cbd-cdf2-e717bfa46a10"
      },
      "execution_count": 61,
      "outputs": [
        {
          "output_type": "execute_result",
          "data": {
            "text/plain": [
              "tensor([[0.6161, 0.5634, 0.6617, 0.4840],\n",
              "        [0.6082, 0.5444, 0.6413, 0.4779],\n",
              "        [0.6509, 0.6444, 0.7491, 0.5106],\n",
              "        [0.6139, 0.5580, 0.6559, 0.4822],\n",
              "        [0.5973, 0.5183, 0.6130, 0.4706],\n",
              "        [0.6060, 0.5391, 0.6355, 0.4764],\n",
              "        [0.6016, 0.5287, 0.6243, 0.4735],\n",
              "        [0.6251, 0.5850, 0.6844, 0.4909],\n",
              "        [0.6228, 0.5796, 0.6788, 0.4892],\n",
              "        [0.6038, 0.5338, 0.6299, 0.4749],\n",
              "        [0.6105, 0.5499, 0.6472, 0.4796],\n",
              "        [0.6298, 0.5960, 0.6955, 0.4943],\n",
              "        [0.5961, 0.5155, 0.6101, 0.4699],\n",
              "        [0.6206, 0.5742, 0.6732, 0.4874],\n",
              "        [0.6127, 0.5553, 0.6530, 0.4814],\n",
              "        [0.6228, 0.5796, 0.6788, 0.4892],\n",
              "        [0.6195, 0.5716, 0.6703, 0.4866],\n",
              "        [0.6116, 0.5526, 0.6501, 0.4805],\n",
              "        [0.6127, 0.5553, 0.6530, 0.4814],\n",
              "        [0.6016, 0.5287, 0.6243, 0.4735],\n",
              "        [0.5961, 0.5155, 0.6101, 0.4699],\n",
              "        [0.6251, 0.5850, 0.6844, 0.4909],\n",
              "        [0.6195, 0.5716, 0.6703, 0.4866],\n",
              "        [0.6298, 0.5960, 0.6955, 0.4943],\n",
              "        [0.5892, 0.4953, 0.5898, 0.4667],\n",
              "        [0.6183, 0.5689, 0.6675, 0.4857]], grad_fn=<SigmoidBackward0>)"
            ]
          },
          "metadata": {},
          "execution_count": 61
        }
      ]
    },
    {
      "cell_type": "code",
      "source": [
        "pred = net(data[train_size][0])\n",
        "pred"
      ],
      "metadata": {
        "colab": {
          "base_uri": "https://localhost:8080/"
        },
        "id": "TnoVaZ9ilOBf",
        "outputId": "0992ef27-2599-428a-e86e-b6d6a5e58698"
      },
      "execution_count": 62,
      "outputs": [
        {
          "output_type": "execute_result",
          "data": {
            "text/plain": [
              "tensor([[0.6161, 0.5634, 0.6617, 0.4840],\n",
              "        [0.6082, 0.5444, 0.6413, 0.4779],\n",
              "        [0.6509, 0.6444, 0.7491, 0.5106],\n",
              "        [0.6139, 0.5580, 0.6559, 0.4822],\n",
              "        [0.5973, 0.5183, 0.6130, 0.4706],\n",
              "        [0.6060, 0.5391, 0.6355, 0.4764],\n",
              "        [0.6016, 0.5287, 0.6243, 0.4735],\n",
              "        [0.6251, 0.5850, 0.6844, 0.4909],\n",
              "        [0.6228, 0.5796, 0.6788, 0.4892],\n",
              "        [0.6038, 0.5338, 0.6299, 0.4749],\n",
              "        [0.6105, 0.5499, 0.6472, 0.4796],\n",
              "        [0.6298, 0.5960, 0.6955, 0.4943],\n",
              "        [0.5961, 0.5155, 0.6101, 0.4699],\n",
              "        [0.6206, 0.5742, 0.6732, 0.4874],\n",
              "        [0.6127, 0.5553, 0.6530, 0.4814],\n",
              "        [0.6228, 0.5796, 0.6788, 0.4892],\n",
              "        [0.6195, 0.5716, 0.6703, 0.4866],\n",
              "        [0.6116, 0.5526, 0.6501, 0.4805],\n",
              "        [0.6127, 0.5553, 0.6530, 0.4814],\n",
              "        [0.6016, 0.5287, 0.6243, 0.4735],\n",
              "        [0.5961, 0.5155, 0.6101, 0.4699],\n",
              "        [0.6251, 0.5850, 0.6844, 0.4909],\n",
              "        [0.6195, 0.5716, 0.6703, 0.4866],\n",
              "        [0.6298, 0.5960, 0.6955, 0.4943],\n",
              "        [0.5892, 0.4953, 0.5898, 0.4667],\n",
              "        [0.6183, 0.5689, 0.6675, 0.4857]], grad_fn=<SigmoidBackward0>)"
            ]
          },
          "metadata": {},
          "execution_count": 62
        }
      ]
    },
    {
      "cell_type": "code",
      "source": [
        "f_true[0][0][0]"
      ],
      "metadata": {
        "colab": {
          "base_uri": "https://localhost:8080/"
        },
        "id": "fjW33c2B9RJi",
        "outputId": "14de5eca-80b2-49d8-d27b-7065a56800b0"
      },
      "execution_count": 64,
      "outputs": [
        {
          "output_type": "execute_result",
          "data": {
            "text/plain": [
              "tensor([[0, 0, 0, 1],\n",
              "        [0, 0, 0, 0],\n",
              "        [1, 1, 0, 0],\n",
              "        [0, 0, 0, 0],\n",
              "        [0, 0, 0, 0],\n",
              "        [0, 0, 0, 0],\n",
              "        [0, 0, 0, 0],\n",
              "        [0, 0, 0, 0],\n",
              "        [0, 0, 0, 1],\n",
              "        [0, 0, 0, 0],\n",
              "        [0, 0, 0, 0],\n",
              "        [1, 0, 0, 1],\n",
              "        [0, 0, 0, 0],\n",
              "        [1, 0, 0, 0],\n",
              "        [1, 0, 0, 0],\n",
              "        [0, 0, 0, 1],\n",
              "        [0, 0, 0, 1],\n",
              "        [0, 0, 0, 1],\n",
              "        [0, 0, 0, 1],\n",
              "        [0, 0, 0, 0],\n",
              "        [0, 0, 0, 0],\n",
              "        [0, 0, 0, 1],\n",
              "        [0, 0, 0, 1],\n",
              "        [1, 0, 0, 1],\n",
              "        [0, 1, 1, 0],\n",
              "        [0, 0, 0, 1]])"
            ]
          },
          "metadata": {},
          "execution_count": 64
        }
      ]
    },
    {
      "cell_type": "code",
      "source": [
        "f_true[0][0][0]-pred"
      ],
      "metadata": {
        "colab": {
          "base_uri": "https://localhost:8080/"
        },
        "id": "xRRFfTvHpJT3",
        "outputId": "050a4853-6642-41ac-d42e-a453f9ef659c"
      },
      "execution_count": 65,
      "outputs": [
        {
          "output_type": "execute_result",
          "data": {
            "text/plain": [
              "tensor([[-0.6161, -0.5634, -0.6617,  0.5160],\n",
              "        [-0.6082, -0.5444, -0.6413, -0.4779],\n",
              "        [ 0.3491,  0.3556, -0.7491, -0.5106],\n",
              "        [-0.6139, -0.5580, -0.6559, -0.4822],\n",
              "        [-0.5973, -0.5183, -0.6130, -0.4706],\n",
              "        [-0.6060, -0.5391, -0.6355, -0.4764],\n",
              "        [-0.6016, -0.5287, -0.6243, -0.4735],\n",
              "        [-0.6251, -0.5850, -0.6844, -0.4909],\n",
              "        [-0.6228, -0.5796, -0.6788,  0.5108],\n",
              "        [-0.6038, -0.5338, -0.6299, -0.4749],\n",
              "        [-0.6105, -0.5499, -0.6472, -0.4796],\n",
              "        [ 0.3702, -0.5960, -0.6955,  0.5057],\n",
              "        [-0.5961, -0.5155, -0.6101, -0.4699],\n",
              "        [ 0.3794, -0.5742, -0.6732, -0.4874],\n",
              "        [ 0.3873, -0.5553, -0.6530, -0.4814],\n",
              "        [-0.6228, -0.5796, -0.6788,  0.5108],\n",
              "        [-0.6195, -0.5716, -0.6703,  0.5134],\n",
              "        [-0.6116, -0.5526, -0.6501,  0.5195],\n",
              "        [-0.6127, -0.5553, -0.6530,  0.5186],\n",
              "        [-0.6016, -0.5287, -0.6243, -0.4735],\n",
              "        [-0.5961, -0.5155, -0.6101, -0.4699],\n",
              "        [-0.6251, -0.5850, -0.6844,  0.5091],\n",
              "        [-0.6195, -0.5716, -0.6703,  0.5134],\n",
              "        [ 0.3702, -0.5960, -0.6955,  0.5057],\n",
              "        [-0.5892,  0.5047,  0.4102, -0.4667],\n",
              "        [-0.6183, -0.5689, -0.6675,  0.5143]], grad_fn=<SubBackward0>)"
            ]
          },
          "metadata": {},
          "execution_count": 65
        }
      ]
    },
    {
      "cell_type": "code",
      "source": [
        "pred.round()"
      ],
      "metadata": {
        "colab": {
          "base_uri": "https://localhost:8080/"
        },
        "id": "J7-f70dume3o",
        "outputId": "48b26be3-f284-4555-b054-2b2070669344"
      },
      "execution_count": 66,
      "outputs": [
        {
          "output_type": "execute_result",
          "data": {
            "text/plain": [
              "tensor([[1., 1., 1., 0.],\n",
              "        [1., 1., 1., 0.],\n",
              "        [1., 1., 1., 1.],\n",
              "        [1., 1., 1., 0.],\n",
              "        [1., 1., 1., 0.],\n",
              "        [1., 1., 1., 0.],\n",
              "        [1., 1., 1., 0.],\n",
              "        [1., 1., 1., 0.],\n",
              "        [1., 1., 1., 0.],\n",
              "        [1., 1., 1., 0.],\n",
              "        [1., 1., 1., 0.],\n",
              "        [1., 1., 1., 0.],\n",
              "        [1., 1., 1., 0.],\n",
              "        [1., 1., 1., 0.],\n",
              "        [1., 1., 1., 0.],\n",
              "        [1., 1., 1., 0.],\n",
              "        [1., 1., 1., 0.],\n",
              "        [1., 1., 1., 0.],\n",
              "        [1., 1., 1., 0.],\n",
              "        [1., 1., 1., 0.],\n",
              "        [1., 1., 1., 0.],\n",
              "        [1., 1., 1., 0.],\n",
              "        [1., 1., 1., 0.],\n",
              "        [1., 1., 1., 0.],\n",
              "        [1., 0., 1., 0.],\n",
              "        [1., 1., 1., 0.]], grad_fn=<RoundBackward0>)"
            ]
          },
          "metadata": {},
          "execution_count": 66
        }
      ]
    },
    {
      "cell_type": "code",
      "source": [
        "return_x"
      ],
      "metadata": {
        "colab": {
          "base_uri": "https://localhost:8080/"
        },
        "id": "duhMENrytrHG",
        "outputId": "ffa8aa26-97ae-4baf-e978-365d60e6a2ee"
      },
      "execution_count": 67,
      "outputs": [
        {
          "output_type": "execute_result",
          "data": {
            "text/plain": [
              "tensor([0.0000, 0.0000, 0.9500, 0.0000, 0.0000, 0.0000, 0.0000, 0.1456, 0.0889,\n",
              "        0.0000, 0.0000, 0.2661, 0.0000, 0.0341, 0.0000, 0.0889, 0.0073, 0.0000,\n",
              "        0.0000, 0.0000, 0.0000, 0.1456, 0.0073, 0.2661, 0.0000, 0.0000],\n",
              "       grad_fn=<ContinuousOptimizerBackward>)"
            ]
          },
          "metadata": {},
          "execution_count": 67
        }
      ]
    },
    {
      "cell_type": "code",
      "source": [
        "return_x.round()"
      ],
      "metadata": {
        "colab": {
          "base_uri": "https://localhost:8080/"
        },
        "id": "XCJO39adtx04",
        "outputId": "8990709c-6461-422e-968f-3e849f63d9c7"
      },
      "execution_count": 68,
      "outputs": [
        {
          "output_type": "execute_result",
          "data": {
            "text/plain": [
              "tensor([0., 0., 1., 0., 0., 0., 0., 0., 0., 0., 0., 0., 0., 0., 0., 0., 0., 0.,\n",
              "        0., 0., 0., 0., 0., 0., 0., 0.], grad_fn=<RoundBackward0>)"
            ]
          },
          "metadata": {},
          "execution_count": 68
        }
      ]
    },
    {
      "cell_type": "code",
      "source": [
        "pp, ww = f_true[size][i]"
      ],
      "metadata": {
        "id": "3rgPaRYeuYzc"
      },
      "execution_count": 69,
      "outputs": []
    },
    {
      "cell_type": "code",
      "source": [
        "x = ContinuousOptimizer.apply(pred, optfunc, dgrad, None, 0.95)"
      ],
      "metadata": {
        "id": "Zsw2Yqy8lThx"
      },
      "execution_count": 70,
      "outputs": []
    },
    {
      "cell_type": "code",
      "source": [
        "x"
      ],
      "metadata": {
        "colab": {
          "base_uri": "https://localhost:8080/"
        },
        "id": "uPAZOImylYv9",
        "outputId": "bd206286-3527-4174-edfe-de16f9af21e1"
      },
      "execution_count": 71,
      "outputs": [
        {
          "output_type": "execute_result",
          "data": {
            "text/plain": [
              "tensor([0.0000, 0.0000, 0.9500, 0.0000, 0.0000, 0.0000, 0.0000, 0.1456, 0.0889,\n",
              "        0.0000, 0.0000, 0.2661, 0.0000, 0.0341, 0.0000, 0.0889, 0.0073, 0.0000,\n",
              "        0.0000, 0.0000, 0.0000, 0.1456, 0.0073, 0.2661, 0.0000, 0.0000],\n",
              "       grad_fn=<ContinuousOptimizerBackward>)"
            ]
          },
          "metadata": {},
          "execution_count": 71
        }
      ]
    },
    {
      "cell_type": "code",
      "source": [
        "n = len(ww)\n",
        "total = 0\n",
        "for i in range(n):\n",
        "  p_fail = 1 - return_x.detach().numpy()*return_prediction.detach().numpy()[:, i]\n",
        "  p_all_fail = np.prod(p_fail)\n",
        "  total += ww[i] * (1 - p_all_fail)"
      ],
      "metadata": {
        "id": "AE8kAeLtnv3t"
      },
      "execution_count": 72,
      "outputs": []
    },
    {
      "cell_type": "code",
      "source": [
        "total"
      ],
      "metadata": {
        "colab": {
          "base_uri": "https://localhost:8080/"
        },
        "id": "9Z3RmLhrg845",
        "outputId": "5d918aa3-db6f-4afa-86a2-01023bfaa845"
      },
      "execution_count": 73,
      "outputs": [
        {
          "output_type": "execute_result",
          "data": {
            "text/plain": [
              "3.178190588951111"
            ]
          },
          "metadata": {},
          "execution_count": 73
        }
      ]
    },
    {
      "cell_type": "code",
      "source": [
        "objective_coverage(x.detach().numpy(), pp.detach().numpy(), ww)"
      ],
      "metadata": {
        "colab": {
          "base_uri": "https://localhost:8080/"
        },
        "id": "IW1BfPDduxaz",
        "outputId": "9ee8b74d-7bf1-48bb-e3b3-bdfc9cf667a0"
      },
      "execution_count": 74,
      "outputs": [
        {
          "output_type": "execute_result",
          "data": {
            "text/plain": [
              "2.5475668273866177"
            ]
          },
          "metadata": {},
          "execution_count": 74
        }
      ]
    },
    {
      "cell_type": "code",
      "source": [
        "x.topk(2)"
      ],
      "metadata": {
        "colab": {
          "base_uri": "https://localhost:8080/"
        },
        "id": "V2hT3_ZTvPB8",
        "outputId": "8d69a88c-1696-441d-a6c9-7d13a4b30700"
      },
      "execution_count": 75,
      "outputs": [
        {
          "output_type": "execute_result",
          "data": {
            "text/plain": [
              "torch.return_types.topk(\n",
              "values=tensor([0.9500, 0.2661], grad_fn=<TopkBackward0>),\n",
              "indices=tensor([ 2, 23]))"
            ]
          },
          "metadata": {},
          "execution_count": 75
        }
      ]
    },
    {
      "cell_type": "code",
      "source": [
        "[f_true[0][0][0][2], f_true[0][0][0][23]]"
      ],
      "metadata": {
        "colab": {
          "base_uri": "https://localhost:8080/"
        },
        "id": "oPZS90jU-5qs",
        "outputId": "4fee3fdc-2790-408c-d92b-cfb3d08acb26"
      },
      "execution_count": 77,
      "outputs": [
        {
          "output_type": "execute_result",
          "data": {
            "text/plain": [
              "[tensor([1, 1, 0, 0]), tensor([1, 0, 0, 1])]"
            ]
          },
          "metadata": {},
          "execution_count": 77
        }
      ]
    },
    {
      "cell_type": "markdown",
      "source": [
        "With this problem I would get a group of 3 customers out of a possible optimal 4 customers. This is the same as the two-stage approach. \n",
        "\n",
        "We still haven't coerced the algo to giving an infeasible solution because the cardinality constraint is imposed at the end of the algo."
      ],
      "metadata": {
        "id": "v6cfgu3P9cXz"
      }
    },
    {
      "cell_type": "markdown",
      "source": [
        "## Two-Stage Approach"
      ],
      "metadata": {
        "id": "2ezC3bw1ZMlF"
      }
    },
    {
      "cell_type": "code",
      "source": [
        "vals = np.zeros((num_repetitions+1, len(instance_sizes), len(instance_sizes)))\n",
        "\n",
        "for idx in range(num_repetitions, num_repetitions + 1):\n",
        "\n",
        "    intermediate_size = 26\n",
        "\n",
        "    def make_fc():\n",
        "        if num_layers > 1:\n",
        "            if activation == 'relu':\n",
        "                activation_fn = nn.ReLU\n",
        "            elif activation == 'sigmoid':\n",
        "                activation_fn = nn.Sigmoid\n",
        "            else:\n",
        "                raise Exception(\n",
        "                    'Invalid activation function: ' + str(activation))\n",
        "            net_layers = [\n",
        "                nn.Linear(num_features, intermediate_size), activation_fn()]\n",
        "            for hidden in range(num_layers-2):\n",
        "                net_layers.append(\n",
        "                    nn.Linear(intermediate_size, intermediate_size))\n",
        "                net_layers.append(activation_fn())\n",
        "            net_layers.append(nn.Linear(intermediate_size, num_targets))\n",
        "            net_layers.append(nn.Sigmoid())\n",
        "            return nn.Sequential(*net_layers)\n",
        "        else:\n",
        "            return nn.Sequential(nn.Linear(num_features, num_targets), nn.Sigmoid())\n",
        "\n",
        "    # optimizer that will be used for training (and testing)\n",
        "    optfunc = partial(optimize_coverage_multilinear, w=w, k=k, c=0.95)\n",
        "    dgrad = partial(dgrad_coverage, w=w)\n",
        "    if use_hessian:\n",
        "        hessian = partial(hessian_coverage, w=w)\n",
        "    else:\n",
        "        hessian = None\n",
        "\n",
        "    # runs the given net on instances of a given size\n",
        "    def eval_opt(net, instances, size):\n",
        "        net.eval()\n",
        "        val = 0.\n",
        "        for i in range(len(instances)):\n",
        "            pred = net(data[size][i])\n",
        "            x = ContinuousOptimizer.apply(pred, optfunc, dgrad, None, 0.95)\n",
        "            pp, ww = f_true[size][i]\n",
        "            val += objective_coverage(x.detach().numpy(), pp.detach().numpy(), ww)\n",
        "        net.train()\n",
        "        return val/len(instances), pred, x\n",
        "        \n",
        "    def eval_loss(net, instances, size):\n",
        "        net.eval()\n",
        "        val = 0.\n",
        "        for i in range(len(instances)):\n",
        "            pred = net(data[size][i])\n",
        "            pp, ww = f_true[size][i]\n",
        "            val += loss_fn(pred, pp)\n",
        "        net.train()\n",
        "        return val/len(instances), pred, x\n",
        "\n",
        "    # train a network for each size, and test on each sizes\n",
        "    for train_idx, train_size in enumerate(instance_sizes):\n",
        "        net_two_stage = make_fc()\n",
        "        loss_fn = nn.MultiLabelSoftMarginLoss()\n",
        "        optimizer = torch.optim.Adam(net.parameters(), lr=learning_rate)\n",
        "        # training\n",
        "        for t in range(num_iters):\n",
        "            print(f\"Iteration {t}\")\n",
        "            i=0\n",
        "            pred = net_two_stage(data[train_size][i])\n",
        "            pp, ww = f_true[train_size][i]\n",
        "            loss = loss_fn(pred, pp)\n",
        "            optimizer.zero_grad()\n",
        "            loss.backward()\n",
        "            optimizer.step()\n",
        "        # save learned network state\n",
        "        savepath = '/tmp/net_two_stage_diffopt_smalllr_{0}_{1}_{2}_{3}.pt'.format(\n",
        "            train_size, k, num_layers, idx)\n",
        "        torch.save(net_two_stage.state_dict(), savepath)\n",
        "        # test on different sizes\n",
        "        for test_idx, test_size in enumerate(instance_sizes):\n",
        "            vals[idx, train_idx, test_idx], prediction_two_stage, x_two_stage = eval_opt(net_two_stage, test, test_size)\n",
        "            print(vals[idx, train_idx, test_idx])\n",
        "        # save out values\n",
        "        print(idx, train_size, vals[idx, train_idx])\n",
        "        with open('results_recommendation_' + str(num_layers) + '.pickle', 'wb') as f:\n",
        "            pickle.dump(vals, f)\n"
      ],
      "metadata": {
        "colab": {
          "base_uri": "https://localhost:8080/"
        },
        "id": "e89o1KC8ZQQa",
        "outputId": "c23a461a-77fb-441c-d45c-bbc7ed146997"
      },
      "execution_count": 46,
      "outputs": [
        {
          "output_type": "stream",
          "name": "stdout",
          "text": [
            "Iteration 0\n",
            "Iteration 1\n",
            "Iteration 2\n",
            "Iteration 3\n",
            "Iteration 4\n",
            "Iteration 5\n",
            "Iteration 6\n",
            "Iteration 7\n",
            "Iteration 8\n",
            "Iteration 9\n",
            "Iteration 10\n",
            "Iteration 11\n",
            "Iteration 12\n",
            "Iteration 13\n",
            "Iteration 14\n",
            "Iteration 15\n",
            "Iteration 16\n",
            "Iteration 17\n",
            "Iteration 18\n",
            "Iteration 19\n",
            "Iteration 20\n",
            "Iteration 21\n",
            "Iteration 22\n",
            "Iteration 23\n",
            "Iteration 24\n",
            "Iteration 25\n",
            "Iteration 26\n",
            "Iteration 27\n",
            "Iteration 28\n",
            "Iteration 29\n",
            "Iteration 30\n",
            "Iteration 31\n",
            "Iteration 32\n",
            "Iteration 33\n",
            "Iteration 34\n",
            "Iteration 35\n",
            "Iteration 36\n",
            "Iteration 37\n",
            "Iteration 38\n",
            "Iteration 39\n",
            "Iteration 40\n",
            "Iteration 41\n",
            "Iteration 42\n",
            "Iteration 43\n",
            "Iteration 44\n",
            "Iteration 45\n",
            "Iteration 46\n",
            "Iteration 47\n",
            "Iteration 48\n",
            "Iteration 49\n",
            "Iteration 50\n",
            "Iteration 51\n",
            "Iteration 52\n",
            "Iteration 53\n",
            "Iteration 54\n",
            "Iteration 55\n",
            "Iteration 56\n",
            "Iteration 57\n",
            "Iteration 58\n",
            "Iteration 59\n",
            "Iteration 60\n",
            "Iteration 61\n",
            "Iteration 62\n",
            "Iteration 63\n",
            "Iteration 64\n",
            "Iteration 65\n",
            "Iteration 66\n",
            "Iteration 67\n",
            "Iteration 68\n",
            "Iteration 69\n",
            "Iteration 70\n",
            "Iteration 71\n",
            "Iteration 72\n",
            "Iteration 73\n",
            "Iteration 74\n",
            "Iteration 75\n",
            "Iteration 76\n",
            "Iteration 77\n",
            "Iteration 78\n",
            "Iteration 79\n",
            "Iteration 80\n",
            "Iteration 81\n",
            "Iteration 82\n",
            "Iteration 83\n",
            "Iteration 84\n",
            "Iteration 85\n",
            "Iteration 86\n",
            "Iteration 87\n",
            "Iteration 88\n",
            "Iteration 89\n",
            "Iteration 90\n",
            "Iteration 91\n",
            "Iteration 92\n",
            "Iteration 93\n",
            "Iteration 94\n",
            "Iteration 95\n",
            "Iteration 96\n",
            "Iteration 97\n",
            "Iteration 98\n",
            "Iteration 99\n",
            "Iteration 100\n",
            "Iteration 101\n",
            "Iteration 102\n",
            "Iteration 103\n",
            "Iteration 104\n",
            "Iteration 105\n",
            "Iteration 106\n",
            "Iteration 107\n",
            "Iteration 108\n",
            "Iteration 109\n",
            "Iteration 110\n",
            "Iteration 111\n",
            "Iteration 112\n",
            "Iteration 113\n",
            "Iteration 114\n",
            "Iteration 115\n",
            "Iteration 116\n",
            "Iteration 117\n",
            "Iteration 118\n",
            "Iteration 119\n",
            "Iteration 120\n",
            "Iteration 121\n",
            "Iteration 122\n",
            "Iteration 123\n",
            "Iteration 124\n",
            "Iteration 125\n",
            "Iteration 126\n",
            "Iteration 127\n",
            "Iteration 128\n",
            "Iteration 129\n",
            "Iteration 130\n",
            "Iteration 131\n",
            "Iteration 132\n",
            "Iteration 133\n",
            "Iteration 134\n",
            "Iteration 135\n",
            "Iteration 136\n",
            "Iteration 137\n",
            "Iteration 138\n",
            "Iteration 139\n",
            "Iteration 140\n",
            "Iteration 141\n",
            "Iteration 142\n",
            "Iteration 143\n",
            "Iteration 144\n",
            "Iteration 145\n",
            "Iteration 146\n",
            "Iteration 147\n",
            "Iteration 148\n",
            "Iteration 149\n",
            "Iteration 150\n",
            "Iteration 151\n",
            "Iteration 152\n",
            "Iteration 153\n",
            "Iteration 154\n",
            "Iteration 155\n",
            "Iteration 156\n",
            "Iteration 157\n",
            "Iteration 158\n",
            "Iteration 159\n",
            "Iteration 160\n",
            "Iteration 161\n",
            "Iteration 162\n",
            "Iteration 163\n",
            "Iteration 164\n",
            "Iteration 165\n",
            "Iteration 166\n",
            "Iteration 167\n",
            "Iteration 168\n",
            "Iteration 169\n",
            "Iteration 170\n",
            "Iteration 171\n",
            "Iteration 172\n",
            "Iteration 173\n",
            "Iteration 174\n",
            "Iteration 175\n",
            "Iteration 176\n",
            "Iteration 177\n",
            "Iteration 178\n",
            "Iteration 179\n",
            "Iteration 180\n",
            "Iteration 181\n",
            "Iteration 182\n",
            "Iteration 183\n",
            "Iteration 184\n",
            "Iteration 185\n",
            "Iteration 186\n",
            "Iteration 187\n",
            "Iteration 188\n",
            "Iteration 189\n",
            "Iteration 190\n",
            "Iteration 191\n",
            "Iteration 192\n",
            "Iteration 193\n",
            "Iteration 194\n",
            "Iteration 195\n",
            "Iteration 196\n",
            "Iteration 197\n",
            "Iteration 198\n",
            "Iteration 199\n",
            "Iteration 200\n",
            "Iteration 201\n",
            "Iteration 202\n",
            "Iteration 203\n",
            "Iteration 204\n",
            "Iteration 205\n",
            "Iteration 206\n",
            "Iteration 207\n",
            "Iteration 208\n",
            "Iteration 209\n",
            "Iteration 210\n",
            "Iteration 211\n",
            "Iteration 212\n",
            "Iteration 213\n",
            "Iteration 214\n",
            "Iteration 215\n",
            "Iteration 216\n",
            "Iteration 217\n",
            "Iteration 218\n",
            "Iteration 219\n",
            "Iteration 220\n",
            "Iteration 221\n",
            "Iteration 222\n",
            "Iteration 223\n",
            "Iteration 224\n",
            "Iteration 225\n",
            "Iteration 226\n",
            "Iteration 227\n",
            "Iteration 228\n",
            "Iteration 229\n",
            "Iteration 230\n",
            "Iteration 231\n",
            "Iteration 232\n",
            "Iteration 233\n",
            "Iteration 234\n",
            "Iteration 235\n",
            "Iteration 236\n",
            "Iteration 237\n",
            "Iteration 238\n",
            "Iteration 239\n",
            "Iteration 240\n",
            "Iteration 241\n",
            "Iteration 242\n",
            "Iteration 243\n",
            "Iteration 244\n",
            "Iteration 245\n",
            "Iteration 246\n",
            "Iteration 247\n",
            "Iteration 248\n",
            "Iteration 249\n",
            "Iteration 250\n",
            "Iteration 251\n",
            "Iteration 252\n",
            "Iteration 253\n",
            "Iteration 254\n",
            "Iteration 255\n",
            "Iteration 256\n",
            "Iteration 257\n",
            "Iteration 258\n",
            "Iteration 259\n",
            "Iteration 260\n",
            "Iteration 261\n",
            "Iteration 262\n",
            "Iteration 263\n",
            "Iteration 264\n",
            "Iteration 265\n",
            "Iteration 266\n",
            "Iteration 267\n",
            "Iteration 268\n",
            "Iteration 269\n",
            "Iteration 270\n",
            "Iteration 271\n",
            "Iteration 272\n",
            "Iteration 273\n",
            "Iteration 274\n",
            "Iteration 275\n",
            "Iteration 276\n",
            "Iteration 277\n",
            "Iteration 278\n",
            "Iteration 279\n",
            "Iteration 280\n",
            "Iteration 281\n",
            "Iteration 282\n",
            "Iteration 283\n",
            "Iteration 284\n",
            "Iteration 285\n",
            "Iteration 286\n",
            "Iteration 287\n",
            "Iteration 288\n",
            "Iteration 289\n",
            "Iteration 290\n",
            "Iteration 291\n",
            "Iteration 292\n",
            "Iteration 293\n",
            "Iteration 294\n",
            "Iteration 295\n",
            "Iteration 296\n",
            "Iteration 297\n",
            "Iteration 298\n",
            "Iteration 299\n",
            "Iteration 300\n",
            "Iteration 301\n",
            "Iteration 302\n",
            "Iteration 303\n",
            "Iteration 304\n",
            "Iteration 305\n",
            "Iteration 306\n",
            "Iteration 307\n",
            "Iteration 308\n",
            "Iteration 309\n",
            "Iteration 310\n",
            "Iteration 311\n",
            "Iteration 312\n",
            "Iteration 313\n",
            "Iteration 314\n",
            "Iteration 315\n",
            "Iteration 316\n",
            "Iteration 317\n",
            "Iteration 318\n",
            "Iteration 319\n",
            "Iteration 320\n",
            "Iteration 321\n",
            "Iteration 322\n",
            "Iteration 323\n",
            "Iteration 324\n",
            "Iteration 325\n",
            "Iteration 326\n",
            "Iteration 327\n",
            "Iteration 328\n",
            "Iteration 329\n",
            "Iteration 330\n",
            "Iteration 331\n",
            "Iteration 332\n",
            "Iteration 333\n",
            "Iteration 334\n",
            "Iteration 335\n",
            "Iteration 336\n",
            "Iteration 337\n",
            "Iteration 338\n",
            "Iteration 339\n",
            "Iteration 340\n",
            "Iteration 341\n",
            "Iteration 342\n",
            "Iteration 343\n",
            "Iteration 344\n",
            "Iteration 345\n",
            "Iteration 346\n",
            "Iteration 347\n",
            "Iteration 348\n",
            "Iteration 349\n",
            "Iteration 350\n",
            "Iteration 351\n",
            "Iteration 352\n",
            "Iteration 353\n",
            "Iteration 354\n",
            "Iteration 355\n",
            "Iteration 356\n",
            "Iteration 357\n",
            "Iteration 358\n",
            "Iteration 359\n",
            "Iteration 360\n",
            "Iteration 361\n",
            "Iteration 362\n",
            "Iteration 363\n",
            "Iteration 364\n",
            "Iteration 365\n",
            "Iteration 366\n",
            "Iteration 367\n",
            "Iteration 368\n",
            "Iteration 369\n",
            "Iteration 370\n",
            "Iteration 371\n",
            "Iteration 372\n",
            "Iteration 373\n",
            "Iteration 374\n",
            "Iteration 375\n",
            "Iteration 376\n",
            "Iteration 377\n",
            "Iteration 378\n",
            "Iteration 379\n",
            "Iteration 380\n",
            "Iteration 381\n",
            "Iteration 382\n",
            "Iteration 383\n",
            "Iteration 384\n",
            "Iteration 385\n",
            "Iteration 386\n",
            "Iteration 387\n",
            "Iteration 388\n",
            "Iteration 389\n",
            "Iteration 390\n",
            "Iteration 391\n",
            "Iteration 392\n",
            "Iteration 393\n",
            "Iteration 394\n",
            "Iteration 395\n",
            "Iteration 396\n",
            "Iteration 397\n",
            "Iteration 398\n",
            "Iteration 399\n",
            "Iteration 400\n",
            "Iteration 401\n",
            "Iteration 402\n",
            "Iteration 403\n",
            "Iteration 404\n",
            "Iteration 405\n",
            "Iteration 406\n",
            "Iteration 407\n",
            "Iteration 408\n",
            "Iteration 409\n",
            "Iteration 410\n",
            "Iteration 411\n",
            "Iteration 412\n",
            "Iteration 413\n",
            "Iteration 414\n",
            "Iteration 415\n",
            "Iteration 416\n",
            "Iteration 417\n",
            "Iteration 418\n",
            "Iteration 419\n",
            "Iteration 420\n",
            "Iteration 421\n",
            "Iteration 422\n",
            "Iteration 423\n",
            "Iteration 424\n",
            "Iteration 425\n",
            "Iteration 426\n",
            "Iteration 427\n",
            "Iteration 428\n",
            "Iteration 429\n",
            "Iteration 430\n",
            "Iteration 431\n",
            "Iteration 432\n",
            "Iteration 433\n",
            "Iteration 434\n",
            "Iteration 435\n",
            "Iteration 436\n",
            "Iteration 437\n",
            "Iteration 438\n",
            "Iteration 439\n",
            "Iteration 440\n",
            "Iteration 441\n",
            "Iteration 442\n",
            "Iteration 443\n",
            "Iteration 444\n",
            "Iteration 445\n",
            "Iteration 446\n",
            "Iteration 447\n",
            "Iteration 448\n",
            "Iteration 449\n",
            "Iteration 450\n",
            "Iteration 451\n",
            "Iteration 452\n",
            "Iteration 453\n",
            "Iteration 454\n",
            "Iteration 455\n",
            "Iteration 456\n",
            "Iteration 457\n",
            "Iteration 458\n",
            "Iteration 459\n",
            "Iteration 460\n",
            "Iteration 461\n",
            "Iteration 462\n",
            "Iteration 463\n",
            "Iteration 464\n",
            "Iteration 465\n",
            "Iteration 466\n",
            "Iteration 467\n",
            "Iteration 468\n",
            "Iteration 469\n",
            "Iteration 470\n",
            "Iteration 471\n",
            "Iteration 472\n",
            "Iteration 473\n",
            "Iteration 474\n",
            "Iteration 475\n",
            "Iteration 476\n",
            "Iteration 477\n",
            "Iteration 478\n",
            "Iteration 479\n",
            "Iteration 480\n",
            "Iteration 481\n",
            "Iteration 482\n",
            "Iteration 483\n",
            "Iteration 484\n",
            "Iteration 485\n",
            "Iteration 486\n",
            "Iteration 487\n",
            "Iteration 488\n",
            "Iteration 489\n",
            "Iteration 490\n",
            "Iteration 491\n",
            "Iteration 492\n",
            "Iteration 493\n",
            "Iteration 494\n",
            "Iteration 495\n",
            "Iteration 496\n",
            "Iteration 497\n",
            "Iteration 498\n",
            "Iteration 499\n",
            "0.5218491554260254\n",
            "0 0 [0.52184916]\n"
          ]
        }
      ]
    },
    {
      "cell_type": "code",
      "source": [
        "prediction_two_stage"
      ],
      "metadata": {
        "colab": {
          "base_uri": "https://localhost:8080/"
        },
        "id": "9gVG56aNbec5",
        "outputId": "a7cc59fb-1be5-4b12-d50d-3572410f9546"
      },
      "execution_count": 47,
      "outputs": [
        {
          "output_type": "execute_result",
          "data": {
            "text/plain": [
              "tensor([[0.5028, 0.5914, 0.5565, 0.4370],\n",
              "        [0.5095, 0.5842, 0.5555, 0.4463],\n",
              "        [0.4734, 0.6227, 0.5620, 0.3868],\n",
              "        [0.5047, 0.5894, 0.5562, 0.4397],\n",
              "        [0.5190, 0.5738, 0.5520, 0.4577],\n",
              "        [0.5114, 0.5821, 0.5548, 0.4486],\n",
              "        [0.5152, 0.5780, 0.5534, 0.4531],\n",
              "        [0.4954, 0.5994, 0.5574, 0.4251],\n",
              "        [0.4972, 0.5974, 0.5573, 0.4283],\n",
              "        [0.5133, 0.5801, 0.5541, 0.4509],\n",
              "        [0.5076, 0.5863, 0.5557, 0.4438],\n",
              "        [0.4916, 0.6034, 0.5576, 0.4186],\n",
              "        [0.5200, 0.5728, 0.5517, 0.4588],\n",
              "        [0.4991, 0.5954, 0.5572, 0.4315],\n",
              "        [0.5056, 0.5884, 0.5560, 0.4411],\n",
              "        [0.4972, 0.5974, 0.5573, 0.4283],\n",
              "        [0.5000, 0.5944, 0.5570, 0.4329],\n",
              "        [0.5066, 0.5874, 0.5559, 0.4425],\n",
              "        [0.5056, 0.5884, 0.5560, 0.4411],\n",
              "        [0.5152, 0.5780, 0.5534, 0.4531],\n",
              "        [0.5200, 0.5728, 0.5517, 0.4588],\n",
              "        [0.4954, 0.5994, 0.5574, 0.4251],\n",
              "        [0.5000, 0.5944, 0.5570, 0.4329],\n",
              "        [0.4916, 0.6034, 0.5576, 0.4186],\n",
              "        [0.5281, 0.5643, 0.5495, 0.4670],\n",
              "        [0.5009, 0.5934, 0.5569, 0.4343]], grad_fn=<SigmoidBackward0>)"
            ]
          },
          "metadata": {},
          "execution_count": 47
        }
      ]
    },
    {
      "cell_type": "code",
      "source": [
        "prediction_two_stage.round()"
      ],
      "metadata": {
        "colab": {
          "base_uri": "https://localhost:8080/"
        },
        "id": "VOZixMqqbhDE",
        "outputId": "a580be99-d8dd-4bd9-87a4-06c3826823ef"
      },
      "execution_count": 48,
      "outputs": [
        {
          "output_type": "execute_result",
          "data": {
            "text/plain": [
              "tensor([[1., 1., 1., 0.],\n",
              "        [1., 1., 1., 0.],\n",
              "        [0., 1., 1., 0.],\n",
              "        [1., 1., 1., 0.],\n",
              "        [1., 1., 1., 0.],\n",
              "        [1., 1., 1., 0.],\n",
              "        [1., 1., 1., 0.],\n",
              "        [0., 1., 1., 0.],\n",
              "        [0., 1., 1., 0.],\n",
              "        [1., 1., 1., 0.],\n",
              "        [1., 1., 1., 0.],\n",
              "        [0., 1., 1., 0.],\n",
              "        [1., 1., 1., 0.],\n",
              "        [0., 1., 1., 0.],\n",
              "        [1., 1., 1., 0.],\n",
              "        [0., 1., 1., 0.],\n",
              "        [1., 1., 1., 0.],\n",
              "        [1., 1., 1., 0.],\n",
              "        [1., 1., 1., 0.],\n",
              "        [1., 1., 1., 0.],\n",
              "        [1., 1., 1., 0.],\n",
              "        [0., 1., 1., 0.],\n",
              "        [1., 1., 1., 0.],\n",
              "        [0., 1., 1., 0.],\n",
              "        [1., 1., 1., 0.],\n",
              "        [1., 1., 1., 0.]], grad_fn=<RoundBackward0>)"
            ]
          },
          "metadata": {},
          "execution_count": 48
        }
      ]
    },
    {
      "cell_type": "code",
      "source": [
        "error_2s = prediction_two_stage.round()-pp\n",
        "error_2s.sum()"
      ],
      "metadata": {
        "colab": {
          "base_uri": "https://localhost:8080/"
        },
        "id": "eTgzJJT98AKk",
        "outputId": "a21ad42d-d272-4c05-d11a-11ea34a488cc"
      },
      "execution_count": 51,
      "outputs": [
        {
          "output_type": "execute_result",
          "data": {
            "text/plain": [
              "tensor(53., grad_fn=<SumBackward0>)"
            ]
          },
          "metadata": {},
          "execution_count": 51
        }
      ]
    },
    {
      "cell_type": "code",
      "source": [
        "x_two_stage"
      ],
      "metadata": {
        "colab": {
          "base_uri": "https://localhost:8080/"
        },
        "id": "8crsn9OS0ELG",
        "outputId": "7b91554c-b55d-4e41-d916-6a8632b45e23"
      },
      "execution_count": 52,
      "outputs": [
        {
          "output_type": "execute_result",
          "data": {
            "text/plain": [
              "tensor([0.0676, 0.1042, 0.0000, 0.0782, 0.1407, 0.1115, 0.1261, 0.0202, 0.0334,\n",
              "        0.1188, 0.0940, 0.0000, 0.1444, 0.0465, 0.0835, 0.0334, 0.0518, 0.0889,\n",
              "        0.0835, 0.1261, 0.1444, 0.0202, 0.0518, 0.0000, 0.1739, 0.0570],\n",
              "       grad_fn=<ContinuousOptimizerBackward>)"
            ]
          },
          "metadata": {},
          "execution_count": 52
        }
      ]
    },
    {
      "cell_type": "code",
      "source": [
        "val_2s, pred_2s, x_2s = eval_opt(net_two_stage, test, test_size)"
      ],
      "metadata": {
        "id": "cwXxO_OewatD"
      },
      "execution_count": 53,
      "outputs": []
    },
    {
      "cell_type": "code",
      "source": [
        "print(val_2s, pred_2s, x_2s)"
      ],
      "metadata": {
        "colab": {
          "base_uri": "https://localhost:8080/"
        },
        "id": "MY4x-Q9Iwl6c",
        "outputId": "58f61762-0bdc-4387-cb83-cc3ee05092e7"
      },
      "execution_count": 54,
      "outputs": [
        {
          "output_type": "stream",
          "name": "stdout",
          "text": [
            "0.5218491554260254 tensor([[0.5028, 0.5914, 0.5565, 0.4370],\n",
            "        [0.5095, 0.5842, 0.5555, 0.4463],\n",
            "        [0.4734, 0.6227, 0.5620, 0.3868],\n",
            "        [0.5047, 0.5894, 0.5562, 0.4397],\n",
            "        [0.5190, 0.5738, 0.5520, 0.4577],\n",
            "        [0.5114, 0.5821, 0.5548, 0.4486],\n",
            "        [0.5152, 0.5780, 0.5534, 0.4531],\n",
            "        [0.4954, 0.5994, 0.5574, 0.4251],\n",
            "        [0.4972, 0.5974, 0.5573, 0.4283],\n",
            "        [0.5133, 0.5801, 0.5541, 0.4509],\n",
            "        [0.5076, 0.5863, 0.5557, 0.4438],\n",
            "        [0.4916, 0.6034, 0.5576, 0.4186],\n",
            "        [0.5200, 0.5728, 0.5517, 0.4588],\n",
            "        [0.4991, 0.5954, 0.5572, 0.4315],\n",
            "        [0.5056, 0.5884, 0.5560, 0.4411],\n",
            "        [0.4972, 0.5974, 0.5573, 0.4283],\n",
            "        [0.5000, 0.5944, 0.5570, 0.4329],\n",
            "        [0.5066, 0.5874, 0.5559, 0.4425],\n",
            "        [0.5056, 0.5884, 0.5560, 0.4411],\n",
            "        [0.5152, 0.5780, 0.5534, 0.4531],\n",
            "        [0.5200, 0.5728, 0.5517, 0.4588],\n",
            "        [0.4954, 0.5994, 0.5574, 0.4251],\n",
            "        [0.5000, 0.5944, 0.5570, 0.4329],\n",
            "        [0.4916, 0.6034, 0.5576, 0.4186],\n",
            "        [0.5281, 0.5643, 0.5495, 0.4670],\n",
            "        [0.5009, 0.5934, 0.5569, 0.4343]], grad_fn=<SigmoidBackward0>) tensor([0.0676, 0.1042, 0.0000, 0.0782, 0.1407, 0.1115, 0.1261, 0.0202, 0.0334,\n",
            "        0.1188, 0.0940, 0.0000, 0.1444, 0.0465, 0.0835, 0.0334, 0.0518, 0.0889,\n",
            "        0.0835, 0.1261, 0.1444, 0.0202, 0.0518, 0.0000, 0.1739, 0.0570],\n",
            "       grad_fn=<ContinuousOptimizerBackward>)\n"
          ]
        }
      ]
    },
    {
      "cell_type": "code",
      "source": [
        "n = len(ww)\n",
        "total_2s = 0\n",
        "for i in range(n):\n",
        "  p_fail = 1 - x_2s.detach().numpy()*pp.detach().numpy()[:, i]\n",
        "  p_all_fail = np.prod(p_fail)\n",
        "  total_2s += ww[i] * (1 - p_all_fail)"
      ],
      "metadata": {
        "id": "2znMp6qw8778"
      },
      "execution_count": 56,
      "outputs": []
    },
    {
      "cell_type": "code",
      "source": [
        "total_2s"
      ],
      "metadata": {
        "colab": {
          "base_uri": "https://localhost:8080/"
        },
        "id": "QDmy2NOO9Dyt",
        "outputId": "2fc5ffb3-5dda-432e-e67f-5943c9a0fd4a"
      },
      "execution_count": 57,
      "outputs": [
        {
          "output_type": "execute_result",
          "data": {
            "text/plain": [
              "0.5218493204939957"
            ]
          },
          "metadata": {},
          "execution_count": 57
        }
      ]
    },
    {
      "cell_type": "code",
      "source": [
        "x_2s.topk(2)"
      ],
      "metadata": {
        "colab": {
          "base_uri": "https://localhost:8080/"
        },
        "id": "buyhJ0Gowsd3",
        "outputId": "a3a77ca5-e03b-402f-db7e-84f82a2c45f5"
      },
      "execution_count": 55,
      "outputs": [
        {
          "output_type": "execute_result",
          "data": {
            "text/plain": [
              "torch.return_types.topk(\n",
              "values=tensor([0.1739, 0.1444], grad_fn=<TopkBackward0>),\n",
              "indices=tensor([24, 12]))"
            ]
          },
          "metadata": {},
          "execution_count": 55
        }
      ]
    },
    {
      "cell_type": "code",
      "source": [
        "[f_true[0][0][0][24], f_true[0][0][0][12]]"
      ],
      "metadata": {
        "colab": {
          "base_uri": "https://localhost:8080/"
        },
        "id": "So9GKRng_Hw-",
        "outputId": "2a0aafde-4eed-424b-ac49-7509918c8f28"
      },
      "execution_count": 78,
      "outputs": [
        {
          "output_type": "execute_result",
          "data": {
            "text/plain": [
              "[tensor([0, 1, 1, 0]), tensor([0, 0, 0, 0])]"
            ]
          },
          "metadata": {},
          "execution_count": 78
        }
      ]
    },
    {
      "cell_type": "markdown",
      "source": [
        "With this model, I would recommend circuits 24 and 12 and I would only get two customers out of a possible optimal four."
      ],
      "metadata": {
        "id": "gUjkHTV_8pbh"
      }
    },
    {
      "cell_type": "markdown",
      "source": [
        "## Run Optimizer on Ground Truth"
      ],
      "metadata": {
        "id": "C8ehWmg8_SVC"
      }
    },
    {
      "cell_type": "code",
      "source": [
        "x_ground = ContinuousOptimizer.apply(pp, optfunc, dgrad, None, 0.95)"
      ],
      "metadata": {
        "id": "GbuydT12_WZZ"
      },
      "execution_count": 80,
      "outputs": []
    },
    {
      "cell_type": "code",
      "source": [
        "x_ground"
      ],
      "metadata": {
        "colab": {
          "base_uri": "https://localhost:8080/"
        },
        "id": "fqgK0dzF_gZ8",
        "outputId": "45075e7b-c128-4ebb-b96d-805b484e4482"
      },
      "execution_count": 82,
      "outputs": [
        {
          "output_type": "execute_result",
          "data": {
            "text/plain": [
              "tensor([0.0000, 0.0000, 0.0000, 0.0000, 0.0000, 0.0000, 0.0000, 0.0000, 0.0000,\n",
              "        0.0000, 0.0000, 0.5250, 0.0000, 0.0000, 0.0000, 0.0000, 0.0000, 0.0000,\n",
              "        0.0000, 0.0000, 0.0000, 0.0000, 0.0000, 0.5250, 0.9500, 0.0000])"
            ]
          },
          "metadata": {},
          "execution_count": 82
        }
      ]
    },
    {
      "cell_type": "code",
      "source": [
        "x_ground.round()"
      ],
      "metadata": {
        "colab": {
          "base_uri": "https://localhost:8080/"
        },
        "id": "ywGUHU6v_lAv",
        "outputId": "e1b3fe68-0021-417a-cdc0-a0d32c6cbb8b"
      },
      "execution_count": 83,
      "outputs": [
        {
          "output_type": "execute_result",
          "data": {
            "text/plain": [
              "tensor([0., 0., 0., 0., 0., 0., 0., 0., 0., 0., 0., 1., 0., 0., 0., 0., 0., 0.,\n",
              "        0., 0., 0., 0., 0., 1., 1., 0.])"
            ]
          },
          "metadata": {},
          "execution_count": 83
        }
      ]
    },
    {
      "cell_type": "code",
      "source": [
        "x_ground.topk(2)"
      ],
      "metadata": {
        "colab": {
          "base_uri": "https://localhost:8080/"
        },
        "id": "yB4VnGGk_pEu",
        "outputId": "052bcc70-77f1-4f51-fda9-d3628c4d0d61"
      },
      "execution_count": 84,
      "outputs": [
        {
          "output_type": "execute_result",
          "data": {
            "text/plain": [
              "torch.return_types.topk(\n",
              "values=tensor([0.9500, 0.5250]),\n",
              "indices=tensor([24, 23]))"
            ]
          },
          "metadata": {},
          "execution_count": 84
        }
      ]
    },
    {
      "cell_type": "markdown",
      "source": [
        "Running the optimizer on the ground truth set returns one of two optimal solutions. \n",
        "\n",
        "This has two implications overall. Improving the model learning algorithm to get closer to the ground truth can lead to an optimal decision. Or decision-focused learning can improve the final decision. "
      ],
      "metadata": {
        "id": "ywyElalK_-Ss"
      }
    }
  ]
}